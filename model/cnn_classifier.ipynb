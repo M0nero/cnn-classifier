{
 "cells": [
  {
   "cell_type": "code",
   "execution_count": 14,
   "metadata": {},
   "outputs": [
    {
     "name": "stdout",
     "output_type": "stream",
     "text": [
      "Physical devices cannot be modified after being initialized\n"
     ]
    }
   ],
   "source": [
    "import warnings\n",
    "from sklearn.metrics import accuracy_score\n",
    "import ssl\n",
    "from sklearn.metrics import accuracy_score\n",
    "from tensorflow.keras.utils import to_categorical\n",
    "from tensorflow.keras import regularizers, optimizers\n",
    "from tensorflow.keras.models import Model\n",
    "from tensorflow.keras.layers import BatchNormalization\n",
    "from tensorflow.keras.layers import GlobalMaxPooling2D, MaxPooling2D\n",
    "from tensorflow.keras.layers import Input, Conv2D, Dense, Flatten, Dropout\n",
    "from tensorflow.keras.datasets import cifar10\n",
    "from keras.models import Sequential\n",
    "from tensorflow import keras\n",
    "import tensorflow as tf\n",
    "import keras\n",
    "import numpy as np\n",
    "import matplotlib.pyplot as plt\n",
    "\n",
    "warnings.filterwarnings('ignore')\n",
    "\n",
    "gpus = tf.config.list_physical_devices('GPU')\n",
    "if gpus:\n",
    "  try:\n",
    "    # Currently, memory growth needs to be the same across GPUs\n",
    "    for gpu in gpus:\n",
    "      tf.config.experimental.set_memory_growth(gpu, True)\n",
    "    logical_gpus = tf.config.list_logical_devices('GPU')\n",
    "    print(len(gpus), \"Physical GPUs,\", len(logical_gpus), \"Logical GPUs\")\n",
    "  except RuntimeError as e:\n",
    "    # Memory growth must be set before GPUs have been initialized\n",
    "    print(e)\n",
    "\n",
    "ssl._create_default_https_context = ssl._create_unverified_context\n",
    "(X_train, Y_train), (X_test, Y_test) = cifar10.load_data()"
   ]
  },
  {
   "cell_type": "code",
   "execution_count": 15,
   "metadata": {},
   "outputs": [
    {
     "name": "stdout",
     "output_type": "stream",
     "text": [
      "Model: \"sequential_4\"\n",
      "_________________________________________________________________\n",
      " Layer (type)                Output Shape              Param #   \n",
      "=================================================================\n",
      " conv2d_14 (Conv2D)          (None, 29, 29, 64)        3136      \n",
      "                                                                 \n",
      " conv2d_15 (Conv2D)          (None, 26, 26, 64)        65600     \n",
      "                                                                 \n",
      " max_pooling2d_6 (MaxPooling  (None, 13, 13, 64)       0         \n",
      " 2D)                                                             \n",
      "                                                                 \n",
      " dropout_6 (Dropout)         (None, 13, 13, 64)        0         \n",
      "                                                                 \n",
      " conv2d_16 (Conv2D)          (None, 10, 10, 128)       131200    \n",
      "                                                                 \n",
      " conv2d_17 (Conv2D)          (None, 7, 7, 128)         262272    \n",
      "                                                                 \n",
      " max_pooling2d_7 (MaxPooling  (None, 3, 3, 128)        0         \n",
      " 2D)                                                             \n",
      "                                                                 \n",
      " dropout_7 (Dropout)         (None, 3, 3, 128)         0         \n",
      "                                                                 \n",
      " flatten_3 (Flatten)         (None, 1152)              0         \n",
      "                                                                 \n",
      " dense_9 (Dense)             (None, 1024)              1180672   \n",
      "                                                                 \n",
      " dense_10 (Dense)            (None, 1024)              1049600   \n",
      "                                                                 \n",
      " dense_11 (Dense)            (None, 10)                10250     \n",
      "                                                                 \n",
      "=================================================================\n",
      "Total params: 2,702,730\n",
      "Trainable params: 2,702,730\n",
      "Non-trainable params: 0\n",
      "_________________________________________________________________\n"
     ]
    }
   ],
   "source": [
    "# Normalizing\n",
    "X_train = X_train/255\n",
    "X_test = X_test/255\n",
    "\n",
    "# One-Hot-Encoding\n",
    "Y_train_en = to_categorical(Y_train, 10)\n",
    "Y_test_en = to_categorical(Y_test, 10)\n",
    "\n",
    "\n",
    "model = Sequential()\n",
    "model.add(Conv2D(64, (4, 4), input_shape=(32, 32, 3), activation='relu'))\n",
    "model.add(Conv2D(64, (4, 4), input_shape=(32, 32, 3), activation='relu'))\n",
    "model.add(MaxPooling2D(pool_size=(2, 2)))\n",
    "model.add(Dropout(0.4))\n",
    "model.add(Conv2D(128, (4, 4), input_shape=(32, 32, 3), activation='relu'))\n",
    "model.add(Conv2D(128, (4, 4), input_shape=(32, 32, 3), activation='relu'))\n",
    "model.add(MaxPooling2D(pool_size=(2, 2)))\n",
    "model.add(Dropout(0.4))\n",
    "model.add(Flatten())\n",
    "model.add(Dense(1024, activation='relu'))\n",
    "model.add(Dense(1024, activation='relu'))\n",
    "model.add(Dense(units=10, activation='softmax'))\n",
    "model.compile(loss='categorical_crossentropy',\n",
    "                optimizer='adam', metrics=['accuracy'])\n",
    "\n",
    "model.summary()"
   ]
  },
  {
   "cell_type": "code",
   "execution_count": 16,
   "metadata": {},
   "outputs": [
    {
     "name": "stdout",
     "output_type": "stream",
     "text": [
      "Epoch 1/50\n",
      "1563/1563 [==============================] - 41s 26ms/step - loss: 1.7528 - accuracy: 0.3430 - val_loss: 1.4652 - val_accuracy: 0.4689\n",
      "Epoch 2/50\n",
      "1563/1563 [==============================] - 29s 18ms/step - loss: 1.4437 - accuracy: 0.4767 - val_loss: 1.3248 - val_accuracy: 0.5233\n",
      "Epoch 3/50\n",
      "1563/1563 [==============================] - 30s 19ms/step - loss: 1.3191 - accuracy: 0.5271 - val_loss: 1.2111 - val_accuracy: 0.5634\n",
      "Epoch 4/50\n",
      "1563/1563 [==============================] - 31s 20ms/step - loss: 1.2381 - accuracy: 0.5591 - val_loss: 1.2054 - val_accuracy: 0.5844\n",
      "Epoch 5/50\n",
      "1563/1563 [==============================] - 30s 19ms/step - loss: 1.1723 - accuracy: 0.5814 - val_loss: 1.0929 - val_accuracy: 0.6099\n",
      "Epoch 6/50\n",
      "1563/1563 [==============================] - 30s 19ms/step - loss: 1.1183 - accuracy: 0.6061 - val_loss: 1.1035 - val_accuracy: 0.6127\n",
      "Epoch 7/50\n",
      "1563/1563 [==============================] - 30s 19ms/step - loss: 1.0756 - accuracy: 0.6230 - val_loss: 1.0064 - val_accuracy: 0.6497\n",
      "Epoch 8/50\n",
      "1563/1563 [==============================] - 30s 19ms/step - loss: 1.0382 - accuracy: 0.6357 - val_loss: 0.9629 - val_accuracy: 0.6621\n",
      "Epoch 9/50\n",
      "1563/1563 [==============================] - 33s 21ms/step - loss: 1.0012 - accuracy: 0.6446 - val_loss: 1.0232 - val_accuracy: 0.6345\n",
      "Epoch 10/50\n",
      "1563/1563 [==============================] - 30s 19ms/step - loss: 0.9775 - accuracy: 0.6551 - val_loss: 0.9780 - val_accuracy: 0.6545\n",
      "Epoch 11/50\n",
      "1563/1563 [==============================] - 31s 20ms/step - loss: 0.9548 - accuracy: 0.6631 - val_loss: 0.9632 - val_accuracy: 0.6645\n",
      "Epoch 12/50\n",
      "1563/1563 [==============================] - 31s 20ms/step - loss: 0.9257 - accuracy: 0.6761 - val_loss: 0.9691 - val_accuracy: 0.6703\n",
      "Epoch 13/50\n",
      "1563/1563 [==============================] - 30s 19ms/step - loss: 0.9128 - accuracy: 0.6801 - val_loss: 0.9367 - val_accuracy: 0.6798\n",
      "Epoch 14/50\n",
      "1563/1563 [==============================] - 31s 20ms/step - loss: 0.8953 - accuracy: 0.6854 - val_loss: 0.9224 - val_accuracy: 0.6825\n",
      "Epoch 15/50\n",
      "1563/1563 [==============================] - 31s 20ms/step - loss: 0.8838 - accuracy: 0.6912 - val_loss: 0.9014 - val_accuracy: 0.6899\n",
      "Epoch 16/50\n",
      "1563/1563 [==============================] - 31s 20ms/step - loss: 0.8575 - accuracy: 0.6997 - val_loss: 0.8544 - val_accuracy: 0.7098\n",
      "Epoch 17/50\n",
      "1563/1563 [==============================] - 31s 20ms/step - loss: 0.8564 - accuracy: 0.7012 - val_loss: 0.9073 - val_accuracy: 0.6861\n",
      "Epoch 18/50\n",
      "1563/1563 [==============================] - 31s 20ms/step - loss: 0.8393 - accuracy: 0.7043 - val_loss: 0.8745 - val_accuracy: 0.6993\n",
      "Epoch 19/50\n",
      "1563/1563 [==============================] - 31s 20ms/step - loss: 0.8293 - accuracy: 0.7078 - val_loss: 0.8526 - val_accuracy: 0.7094\n",
      "Epoch 20/50\n",
      "1563/1563 [==============================] - 31s 20ms/step - loss: 0.8185 - accuracy: 0.7131 - val_loss: 0.8249 - val_accuracy: 0.7186\n",
      "Epoch 21/50\n",
      "1563/1563 [==============================] - 31s 20ms/step - loss: 0.8074 - accuracy: 0.7186 - val_loss: 0.8361 - val_accuracy: 0.7150\n",
      "Epoch 22/50\n",
      "1563/1563 [==============================] - 31s 20ms/step - loss: 0.7995 - accuracy: 0.7214 - val_loss: 0.8244 - val_accuracy: 0.7225\n",
      "Epoch 23/50\n",
      "1563/1563 [==============================] - 31s 20ms/step - loss: 0.7927 - accuracy: 0.7221 - val_loss: 0.8114 - val_accuracy: 0.7227\n",
      "Epoch 24/50\n",
      "1563/1563 [==============================] - 44s 28ms/step - loss: 0.7781 - accuracy: 0.7309 - val_loss: 0.8130 - val_accuracy: 0.7242\n",
      "Epoch 25/50\n",
      "1563/1563 [==============================] - 35s 23ms/step - loss: 0.7714 - accuracy: 0.7298 - val_loss: 0.8479 - val_accuracy: 0.7111\n",
      "Epoch 26/50\n",
      "1563/1563 [==============================] - 43s 27ms/step - loss: 0.7639 - accuracy: 0.7347 - val_loss: 0.8431 - val_accuracy: 0.7179\n",
      "Epoch 27/50\n",
      "1563/1563 [==============================] - 29s 19ms/step - loss: 0.7559 - accuracy: 0.7377 - val_loss: 0.8213 - val_accuracy: 0.7184\n",
      "Epoch 28/50\n",
      "1563/1563 [==============================] - 30s 20ms/step - loss: 0.7432 - accuracy: 0.7411 - val_loss: 0.8355 - val_accuracy: 0.7197\n",
      "Epoch 29/50\n",
      "1563/1563 [==============================] - 33s 21ms/step - loss: 0.7470 - accuracy: 0.7414 - val_loss: 0.7768 - val_accuracy: 0.7431\n",
      "Epoch 30/50\n",
      "1563/1563 [==============================] - 30s 19ms/step - loss: 0.7299 - accuracy: 0.7475 - val_loss: 0.8192 - val_accuracy: 0.7243\n",
      "Epoch 31/50\n",
      "1563/1563 [==============================] - 30s 19ms/step - loss: 0.7206 - accuracy: 0.7505 - val_loss: 0.7823 - val_accuracy: 0.7349\n",
      "Epoch 32/50\n",
      "1563/1563 [==============================] - 30s 19ms/step - loss: 0.7196 - accuracy: 0.7504 - val_loss: 0.8098 - val_accuracy: 0.7302\n",
      "Epoch 33/50\n",
      "1563/1563 [==============================] - 30s 19ms/step - loss: 0.7132 - accuracy: 0.7531 - val_loss: 0.8288 - val_accuracy: 0.7192\n",
      "Epoch 34/50\n",
      "1563/1563 [==============================] - 30s 19ms/step - loss: 0.7096 - accuracy: 0.7550 - val_loss: 0.7814 - val_accuracy: 0.7318\n",
      "Epoch 35/50\n",
      "1563/1563 [==============================] - 30s 19ms/step - loss: 0.6980 - accuracy: 0.7580 - val_loss: 0.7810 - val_accuracy: 0.7382\n",
      "Epoch 36/50\n",
      "1563/1563 [==============================] - 30s 19ms/step - loss: 0.6950 - accuracy: 0.7593 - val_loss: 0.7827 - val_accuracy: 0.7406\n",
      "Epoch 37/50\n",
      "1563/1563 [==============================] - 30s 19ms/step - loss: 0.6818 - accuracy: 0.7643 - val_loss: 0.8074 - val_accuracy: 0.7256\n",
      "Epoch 38/50\n",
      "1563/1563 [==============================] - 30s 19ms/step - loss: 0.6845 - accuracy: 0.7636 - val_loss: 0.7856 - val_accuracy: 0.7335\n",
      "Epoch 39/50\n",
      "1563/1563 [==============================] - 38s 24ms/step - loss: 0.6704 - accuracy: 0.7691 - val_loss: 0.7907 - val_accuracy: 0.7367\n",
      "Epoch 40/50\n",
      "1563/1563 [==============================] - 31s 20ms/step - loss: 0.6668 - accuracy: 0.7689 - val_loss: 0.7826 - val_accuracy: 0.7384\n",
      "Epoch 41/50\n",
      "1563/1563 [==============================] - 32s 21ms/step - loss: 0.6568 - accuracy: 0.7740 - val_loss: 0.7769 - val_accuracy: 0.7393\n",
      "Epoch 42/50\n",
      "1563/1563 [==============================] - 30s 19ms/step - loss: 0.6528 - accuracy: 0.7749 - val_loss: 0.7734 - val_accuracy: 0.7425\n",
      "Epoch 43/50\n",
      "1563/1563 [==============================] - 30s 19ms/step - loss: 0.6484 - accuracy: 0.7773 - val_loss: 0.7904 - val_accuracy: 0.7425\n",
      "Epoch 44/50\n",
      "1563/1563 [==============================] - 30s 19ms/step - loss: 0.6468 - accuracy: 0.7804 - val_loss: 0.7894 - val_accuracy: 0.7373\n",
      "Epoch 45/50\n",
      "1563/1563 [==============================] - 30s 19ms/step - loss: 0.6341 - accuracy: 0.7836 - val_loss: 0.8049 - val_accuracy: 0.7402\n",
      "Epoch 46/50\n",
      "1563/1563 [==============================] - 30s 19ms/step - loss: 0.6356 - accuracy: 0.7812 - val_loss: 0.7809 - val_accuracy: 0.7402\n",
      "Epoch 47/50\n",
      "1563/1563 [==============================] - 30s 19ms/step - loss: 0.6327 - accuracy: 0.7857 - val_loss: 0.7920 - val_accuracy: 0.7395\n",
      "Epoch 48/50\n",
      "1563/1563 [==============================] - 30s 19ms/step - loss: 0.6215 - accuracy: 0.7866 - val_loss: 0.8133 - val_accuracy: 0.7287\n",
      "Epoch 49/50\n",
      "1563/1563 [==============================] - 30s 19ms/step - loss: 0.6133 - accuracy: 0.7883 - val_loss: 0.7792 - val_accuracy: 0.7488\n",
      "Epoch 50/50\n",
      "1563/1563 [==============================] - 31s 20ms/step - loss: 0.6094 - accuracy: 0.7913 - val_loss: 0.7918 - val_accuracy: 0.7422\n"
     ]
    }
   ],
   "source": [
    "\n",
    "history = model.fit(X_train, Y_train_en, epochs=50,\n",
    "                      verbose=1, validation_data=(X_test, Y_test_en))"
   ]
  },
  {
   "cell_type": "code",
   "execution_count": 17,
   "metadata": {},
   "outputs": [
    {
     "name": "stdout",
     "output_type": "stream",
     "text": [
      "313/313 - 2s - loss: 0.7918 - accuracy: 0.7422 - 2s/epoch - 6ms/step\n",
      "0.7422000169754028\n"
     ]
    },
    {
     "data": {
      "image/png": "[encoded data removed]",
      "text/plain": [
       "<Figure size 432x288 with 1 Axes>"
      ]
     },
     "metadata": {
      "needs_background": "light"
     },
     "output_type": "display_data"
    }
   ],
   "source": [
    "plt.plot(history.history['accuracy'], label='accuracy')\n",
    "plt.plot(history.history['val_accuracy'], label = 'val_accuracy')\n",
    "plt.xlabel('Epoch')\n",
    "plt.ylabel('Accuracy')\n",
    "plt.ylim([0.5, 1])\n",
    "plt.legend(loc='lower right')\n",
    "\n",
    "test_loss, test_acc = model.evaluate(X_test,  Y_test_en, verbose=2)\n",
    "print(test_acc)"
   ]
  },
  {
   "cell_type": "code",
   "execution_count": 18,
   "metadata": {},
   "outputs": [],
   "source": [
    "model.save(\"model.h5\")"
   ]
  }
 ],
 "metadata": {
  "interpreter": {
   "hash": "bfb70f94a54e8aa4a07d03aa6296f4ff2c641935d68b23af4bc79479270c512a"
  },
  "kernelspec": {
   "display_name": "Python 3.9.7 ('.venv': venv)",
   "language": "python",
   "name": "python3"
  },
  "language_info": {
   "codemirror_mode": {
    "name": "ipython",
    "version": 3
   },
   "file_extension": ".py",
   "mimetype": "text/x-python",
   "name": "python",
   "nbconvert_exporter": "python",
   "pygments_lexer": "ipython3",
   "version": "3.9.7"
  },
  "orig_nbformat": 4
 },
 "nbformat": 4,
 "nbformat_minor": 2
}
